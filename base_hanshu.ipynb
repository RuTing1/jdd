{
 "cells": [
  {
   "cell_type": "markdown",
   "metadata": {},
   "source": [
    "### python 内置函数\n"
   ]
  },
  {
   "cell_type": "code",
   "execution_count": 28,
   "metadata": {},
   "outputs": [
    {
     "name": "stdout",
     "output_type": "stream",
     "text": [
      "[1, 2, 3, 4, 5, 6, 7, 8, 9]\n"
     ]
    }
   ],
   "source": [
    "#filter\n",
    "def func(x):\n",
    "    if x>0:\n",
    "        return True\n",
    "print(list(filter(func,range(-9,10))))"
   ]
  },
  {
   "cell_type": "code",
   "execution_count": 29,
   "metadata": {},
   "outputs": [
    {
     "name": "stdout",
     "output_type": "stream",
     "text": [
      "45\n",
      "55\n"
     ]
    }
   ],
   "source": [
    "# reduce\n",
    "from functools import reduce\n",
    "def sum(x,y):\n",
    "    return  x+y\n",
    "\n",
    "print(reduce(sum,range(0,10)))  #对0-9累加\n",
    "print(reduce(sum,range(0,10),10))"
   ]
  },
  {
   "cell_type": "code",
   "execution_count": 30,
   "metadata": {},
   "outputs": [
    {
     "name": "stdout",
     "output_type": "stream",
     "text": [
      "[1, 4, 27, 256]\n",
      "[1, 16, 27, 16]\n"
     ]
    }
   ],
   "source": [
    "#map\n",
    "def power(x):\n",
    "    return x**x\n",
    "\n",
    "print(list(map(power,range(1,5))))\n",
    "\n",
    "def power2(x,y):\n",
    "    return x**y\n",
    "\n",
    "print(list(map(power2,range(1,5),range(5,1,-1))))"
   ]
  },
  {
   "cell_type": "code",
   "execution_count": 10,
   "metadata": {
    "collapsed": true
   },
   "outputs": [],
   "source": [
    "#lambda\n",
    "import random\n",
    "lower = (lambda x,y:x if x<y else y)\n",
    "#应用\n",
    "lst = [random.randint(-50,50) for i in range(0,50)]\n",
    "lst2 = filter(lambda n:n>0,lst)\n",
    "lst3 = map(lambda x: x*2,lst)\n",
    "# c = sorted(lst,cmp=lambda x,y:x-y) #递增\n",
    "#函数当数据使用"
   ]
  },
  {
   "cell_type": "code",
   "execution_count": 30,
   "metadata": {},
   "outputs": [
    {
     "data": {
      "text/plain": [
       "3"
      ]
     },
     "execution_count": 30,
     "metadata": {},
     "output_type": "execute_result"
    }
   ],
   "source": [
    "# 函数当成数据1\n",
    "def cal(s):\n",
    "    if s == '+':\n",
    "        return lambda x,y:x+y\n",
    "    elif s == '-':\n",
    "        return lambda x,y: x-y\n",
    "    elif s == '*':\n",
    "        return lambda x,y:x*y\n",
    "    elif s == '/':\n",
    "        return lambda x,y:x/y\n",
    "    else:\n",
    "        assert False,'error:operator not defined'\n",
    "cal('-')(10,7)"
   ]
  },
  {
   "cell_type": "code",
   "execution_count": 29,
   "metadata": {},
   "outputs": [
    {
     "data": {
      "text/plain": [
       "-3"
      ]
     },
     "execution_count": 29,
     "metadata": {},
     "output_type": "execute_result"
    }
   ],
   "source": [
    "# 函数当成数据2\n",
    "cal_dict = {\n",
    "    '+':lambda x,y:x+y,\n",
    "    '-':lambda x,y:x-y,\n",
    "    '*':lambda x,y:x*y,\n",
    "    '/':lambda x,y:x/y\n",
    "}\n",
    "a,b,c,d = 1,2,3,4\n",
    "cal_dict['*'](cal_dict['-'](cal_dict['+'](a,b),d),c)"
   ]
  },
  {
   "cell_type": "code",
   "execution_count": 39,
   "metadata": {},
   "outputs": [
    {
     "name": "stdout",
     "output_type": "stream",
     "text": [
      "发微信高于000001买,低于8.5卖给ffsss\n",
      "发邮件高于000001买,低于8.5卖给111@163.com\n"
     ]
    }
   ],
   "source": [
    "# python 回调callback,函数最为参数\n",
    "def send_weixin(addr,message):\n",
    "    print(u\"发微信\"+message+\"给\"+addr)\n",
    "def send_email(addr,message):\n",
    "    print(u\"发邮件\"+message+\"给\"+addr)\n",
    "\n",
    "send_method = {\n",
    "    \"weixin\":send_weixin,\n",
    "    \"email\":send_email\n",
    "}\n",
    "\n",
    "def gupiao(message,custom_file,vip=False):\n",
    "    send_s = []\n",
    "    for s in message:\n",
    "        if vip == False:\n",
    "            t = s.split(',')\n",
    "            print(t)\n",
    "            send_s.append(t[0])\n",
    "        else:\n",
    "            send_s.append(s)\n",
    "    send_message = ';'.join(send_s)\n",
    "    #callback\n",
    "    for line in open(custom_file,'r'):\n",
    "        info = line.strip().split(',')\n",
    "        send_method[info[0]](info[1],send_message)\n",
    "        \n",
    "gupiao(['高于000001买,低于8.5卖'],'custom_info.txt',True)"
   ]
  },
  {
   "cell_type": "code",
   "execution_count": 43,
   "metadata": {},
   "outputs": [
    {
     "name": "stdout",
     "output_type": "stream",
     "text": [
      "4\n",
      "8\n",
      "16\n",
      "[10, 0]\n",
      "[10, 10]\n"
     ]
    }
   ],
   "source": [
    "# python 闭包，绑定外部变量的函数，函数作为返回值\n",
    "def pow_x(x):\n",
    "    def echo(value):\n",
    "        return value**x\n",
    "    return echo\n",
    "#获得函数列表\n",
    "lst = [pow_x(2),pow_x(3),pow_x(4)]\n",
    "for p in lst:\n",
    "    print(p(2))\n",
    "    \n",
    "#################闭包小例子######################\n",
    "origin = [0,0]\n",
    "legal_x = [0,50]\n",
    "legal_y = [0,50]\n",
    "\n",
    "def create(pos):\n",
    "    def player(direction,step):\n",
    "        new_x = pos[0] + direction[0]*step\n",
    "        new_y = pos[1] + direction[1]*step\n",
    "        pos[0] = new_x\n",
    "        pos[1] = new_y\n",
    "        return pos\n",
    "    return player\n",
    "\n",
    "player1 = create(origin)\n",
    "print(player1([1,0],10))\n",
    "print(player1([0,1],10))"
   ]
  },
  {
   "cell_type": "code",
   "execution_count": 46,
   "metadata": {},
   "outputs": [
    {
     "name": "stdout",
     "output_type": "stream",
     "text": [
      "before myfunc2 called.\n",
      "before myfunc1 called.\n",
      "myfun1() called\n"
     ]
    }
   ],
   "source": [
    "# 装饰器：改变原有函数的功能，函数作为输入参数与返回值的应用\n",
    "# 装饰器-无嵌套，\n",
    "def decorator(f):\n",
    "    print(\"before \"+f.__name__+\" called.\")\n",
    "    return f\n",
    "\n",
    "def myfunc1():\n",
    "    print(\"myfun1() called\")\n",
    "\n",
    "@decorator  \n",
    "def myfunc2():\n",
    "    print(\"myfun2() called\")\n",
    "\n",
    "if __name__ == '__main__':\n",
    "    pass\n",
    "    decorator(myfunc1)()\n",
    "#     myfunc2()\n",
    "\n",
    "# 问题：\n",
    "# 1.@装饰器会提前执行\n",
    "# 2.目标函数无法带参数\n",
    "# 3.目标函数调用后无法插入代码"
   ]
  },
  {
   "cell_type": "code",
   "execution_count": 25,
   "metadata": {},
   "outputs": [
    {
     "name": "stdout",
     "output_type": "stream",
     "text": [
      "list_comp run cost time is 2.054321794275893e-05\n",
      "for_loop run cost time is 1.5802475445525488e-05\n"
     ]
    }
   ],
   "source": [
    "# 装饰器-两层嵌套,装饰器无法带参数\n",
    "import time\n",
    "# def time_cost(f):\n",
    "#     def _f(length):\n",
    "#         start = time.clock()\n",
    "#         a = f(length)\n",
    "#         end = time.clock()\n",
    "#         print(end - start)\n",
    "#         return a\n",
    "#     return _f\n",
    "def time_cost(f):\n",
    "    def _f(*arg,**kwarg):\n",
    "        start = time.clock()\n",
    "        a = f(*arg,**kwarg)\n",
    "        end = time.clock()\n",
    "        print(f.__name__,\"run cost time is\",end - start)\n",
    "        return a\n",
    "    return _f\n",
    "\n",
    "@time_cost\n",
    "def list_comp(length):\n",
    "    return [(x,y) for x in range(length) for y in range(length) if x+y >25]\n",
    "@time_cost\n",
    "def for_loop(xlen,ylen):\n",
    "    a = []\n",
    "    for x in range(xlen):\n",
    "        for y in range(ylen):\n",
    "            if x+y>25:\n",
    "                a.append((x,y))\n",
    "    return a\n",
    "\n",
    "if __name__ == '__main__':\n",
    "    xlen,ylen = 10,10\n",
    "    list_comp(10)\n",
    "    for_loop(xlen,ylen)\n"
   ]
  },
  {
   "cell_type": "code",
   "execution_count": 29,
   "metadata": {},
   "outputs": [
    {
     "name": "stdout",
     "output_type": "stream",
     "text": [
      "list_comp run cost time is 0.24665594100952148\n",
      "999649\n"
     ]
    }
   ],
   "source": [
    "# 装饰器-三层嵌套,装饰器带参数\n",
    "def time_cost(timef):\n",
    "    def decorator(f):\n",
    "        def _f(*arg,**kwarg):\n",
    "            start = timef()\n",
    "            a = f(*arg,**kwarg)\n",
    "            end = timef()\n",
    "            print(f.__name__,\"run cost time is\",end - start)\n",
    "            return a\n",
    "        return _f\n",
    "    return decorator\n",
    "\n",
    "# @time_cost(time.clock)\n",
    "# def list_comp(length):\n",
    "#     return [(x,y) for x in range(length) for y in range(length) if x+y >25]\n",
    "\n",
    "@time_cost(time.time)\n",
    "def list_comp(length):\n",
    "    return [(x,y) for x in range(length) for y in range(length) if x+y >25]\n",
    "\n",
    "a = list_comp(1000)\n",
    "print(len(a))"
   ]
  },
  {
   "cell_type": "code",
   "execution_count": 34,
   "metadata": {},
   "outputs": [
    {
     "name": "stdout",
     "output_type": "stream",
     "text": [
      "T恤\n",
      "装扮好的小红\n"
     ]
    }
   ],
   "source": [
    "# 两层装饰器\n",
    "def printInfo(info):\n",
    "    print(info)\n",
    "\n",
    "def wearTrouser(f):\n",
    "    def _f(*arg,**kwarg):\n",
    "        printInfo('裤子')\n",
    "        return f(*arg,**kwarg)\n",
    "    return _f\n",
    "\n",
    "def wearSuit(f):\n",
    "    def _f(*arg,**kwarg):\n",
    "        printInfo('西服')\n",
    "        return f(*arg,**kwarg)\n",
    "    return _f\n",
    "\n",
    "def wearTShirt(f):\n",
    "    def _f(*arg,**kwarg):\n",
    "        printInfo('T恤')\n",
    "        return f(*arg,**kwarg)\n",
    "    return _f\n",
    "\n",
    "def wearedPerson(person,cloths):\n",
    "    w = person\n",
    "    for f in cloths:\n",
    "        w = f(w)\n",
    "    return w\n",
    "\n",
    "# @wearTrouser\n",
    "# @wearSuit\n",
    "def person(name):\n",
    "    printInfo('装扮好的%s'%name)\n",
    "\n",
    "# person(\"小明\")  # 将两个装饰器的注释去掉\n",
    "    \n",
    "#\n",
    "business_wear = [wearSuit,wearTrouser]\n",
    "sports_wear = [wearTShirt]\n",
    "\n",
    "weared_business_person = wearedPerson(person,business_wear)\n",
    "weared_sports_wear = wearedPerson(person,sports_wear)\n",
    "weared_sports_wear(\"小红\")"
   ]
  },
  {
   "cell_type": "code",
   "execution_count": 4,
   "metadata": {},
   "outputs": [
    {
     "data": {
      "text/plain": [
       "'nohtypekili'"
      ]
     },
     "execution_count": 4,
     "metadata": {},
     "output_type": "execute_result"
    }
   ],
   "source": [
    "#递归Recursion  函数调用自己,生厂上不常用，效率低\n",
    "def fib(n):\n",
    "    if n <=2:\n",
    "        return 1\n",
    "    else:\n",
    "        return fib(n-1)+fib(n-2)\n",
    "\n",
    "#简化 fib = lambda n : 1 if n<=2 else fib(n-1) + fib(n-2)\n",
    "# [fib(i) for i in range(1,12)]\n",
    "\n",
    "# 实例，字符串取反\n",
    "def reverse_s(s):\n",
    "    if len(s)<=1:\n",
    "        return s\n",
    "    else:\n",
    "        return reverse_s(s[1:])+s[0]\n",
    "s = \"ilikepython\"\n",
    "reverse_s(s)"
   ]
  },
  {
   "cell_type": "code",
   "execution_count": 14,
   "metadata": {
    "collapsed": true
   },
   "outputs": [
    {
     "ename": "TypeError",
     "evalue": "throw expected at least 1 arguments, got 0",
     "output_type": "error",
     "traceback": [
      "\u001b[1;31m---------------------------------------------------------------------------\u001b[0m",
      "\u001b[1;31mTypeError\u001b[0m                                 Traceback (most recent call last)",
      "\u001b[1;32m<ipython-input-14-f09735b86b56>\u001b[0m in \u001b[0;36m<module>\u001b[1;34m()\u001b[0m\n\u001b[0;32m     18\u001b[0m         \u001b[0ma\u001b[0m\u001b[1;33m,\u001b[0m\u001b[0mb\u001b[0m \u001b[1;33m=\u001b[0m \u001b[0mb\u001b[0m\u001b[1;33m,\u001b[0m\u001b[0ma\u001b[0m\u001b[1;33m+\u001b[0m\u001b[0mb\u001b[0m\u001b[1;33m\u001b[0m\u001b[0m\n\u001b[0;32m     19\u001b[0m \u001b[0mA\u001b[0m \u001b[1;33m=\u001b[0m \u001b[0mfib_iter\u001b[0m\u001b[1;33m(\u001b[0m\u001b[1;33m)\u001b[0m\u001b[1;33m\u001b[0m\u001b[0m\n\u001b[1;32m---> 20\u001b[1;33m \u001b[1;33m[\u001b[0m\u001b[0mA\u001b[0m\u001b[1;33m.\u001b[0m\u001b[0mthrow\u001b[0m\u001b[1;33m(\u001b[0m\u001b[1;33m)\u001b[0m \u001b[1;32mfor\u001b[0m \u001b[0mi\u001b[0m \u001b[1;32min\u001b[0m \u001b[0mrange\u001b[0m\u001b[1;33m(\u001b[0m\u001b[1;36m100\u001b[0m\u001b[1;33m)\u001b[0m\u001b[1;33m]\u001b[0m\u001b[1;33m\u001b[0m\u001b[0m\n\u001b[0m",
      "\u001b[1;32m<ipython-input-14-f09735b86b56>\u001b[0m in \u001b[0;36m<listcomp>\u001b[1;34m(.0)\u001b[0m\n\u001b[0;32m     18\u001b[0m         \u001b[0ma\u001b[0m\u001b[1;33m,\u001b[0m\u001b[0mb\u001b[0m \u001b[1;33m=\u001b[0m \u001b[0mb\u001b[0m\u001b[1;33m,\u001b[0m\u001b[0ma\u001b[0m\u001b[1;33m+\u001b[0m\u001b[0mb\u001b[0m\u001b[1;33m\u001b[0m\u001b[0m\n\u001b[0;32m     19\u001b[0m \u001b[0mA\u001b[0m \u001b[1;33m=\u001b[0m \u001b[0mfib_iter\u001b[0m\u001b[1;33m(\u001b[0m\u001b[1;33m)\u001b[0m\u001b[1;33m\u001b[0m\u001b[0m\n\u001b[1;32m---> 20\u001b[1;33m \u001b[1;33m[\u001b[0m\u001b[0mA\u001b[0m\u001b[1;33m.\u001b[0m\u001b[0mthrow\u001b[0m\u001b[1;33m(\u001b[0m\u001b[1;33m)\u001b[0m \u001b[1;32mfor\u001b[0m \u001b[0mi\u001b[0m \u001b[1;32min\u001b[0m \u001b[0mrange\u001b[0m\u001b[1;33m(\u001b[0m\u001b[1;36m100\u001b[0m\u001b[1;33m)\u001b[0m\u001b[1;33m]\u001b[0m\u001b[1;33m\u001b[0m\u001b[0m\n\u001b[0m",
      "\u001b[1;31mTypeError\u001b[0m: throw expected at least 1 arguments, got 0"
     ]
    }
   ],
   "source": [
    "# 生成器和yield\n",
    "# Iterable,Iterator,Generator\n",
    "#fib的改写\n",
    "def fib_opt(n):\n",
    "    a,b,i = 0,1,0\n",
    "    while i<n:\n",
    "        a,b = b,a+b\n",
    "        i += 1\n",
    "    else:\n",
    "        return b\n",
    "# [fib_opt(i) for i in range(100)] #问题：重复计算，如100前面99个重复计算\n",
    "\n",
    "#迭代器：惰性计算,问题在于只能顺序算n个值，而不能逆序\n",
    "def fib_iter():\n",
    "    a,b = 0,1\n",
    "    while True:\n",
    "        yield b\n",
    "        a,b = b,a+b\n",
    "A = fib_iter()\n",
    "[A.next() for i in range(100)]"
   ]
  },
  {
   "cell_type": "code",
   "execution_count": null,
   "metadata": {
    "collapsed": true
   },
   "outputs": [],
   "source": []
  }
 ],
 "metadata": {
  "kernelspec": {
   "display_name": "Python 3",
   "language": "python",
   "name": "python3"
  },
  "language_info": {
   "codemirror_mode": {
    "name": "ipython",
    "version": 3
   },
   "file_extension": ".py",
   "mimetype": "text/x-python",
   "name": "python",
   "nbconvert_exporter": "python",
   "pygments_lexer": "ipython3",
   "version": "3.6.3"
  }
 },
 "nbformat": 4,
 "nbformat_minor": 2
}
