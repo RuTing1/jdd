{
 "cells": [
  {
   "cell_type": "markdown",
   "metadata": {},
   "source": [
    "## 载入函数库"
   ]
  },
  {
   "cell_type": "code",
   "execution_count": 1,
   "metadata": {
    "collapsed": true
   },
   "outputs": [],
   "source": [
    "import pandas as pd\n",
    "from sklearn.model_selection import train_test_split\n",
    "from sklearn.preprocessing import StandardScaler\n",
    "from sklearn.linear_model import LogisticRegression\n",
    "from sklearn.neighbors import KNeighborsClassifier\n",
    "from sklearn.naive_bayes import GaussianNB"
   ]
  },
  {
   "cell_type": "markdown",
   "metadata": {},
   "source": [
    "## 读取原始数据 "
   ]
  },
  {
   "cell_type": "code",
   "execution_count": 2,
   "metadata": {},
   "outputs": [
    {
     "data": {
      "text/html": [
       "<div>\n",
       "<style>\n",
       "    .dataframe thead tr:only-child th {\n",
       "        text-align: right;\n",
       "    }\n",
       "\n",
       "    .dataframe thead th {\n",
       "        text-align: left;\n",
       "    }\n",
       "\n",
       "    .dataframe tbody tr th {\n",
       "        vertical-align: top;\n",
       "    }\n",
       "</style>\n",
       "<table border=\"1\" class=\"dataframe\">\n",
       "  <thead>\n",
       "    <tr style=\"text-align: right;\">\n",
       "      <th></th>\n",
       "      <th>status</th>\n",
       "      <th>age</th>\n",
       "      <th>salary</th>\n",
       "      <th>gender</th>\n",
       "      <th>education</th>\n",
       "      <th>graduated.years</th>\n",
       "      <th>marriageStatus</th>\n",
       "      <th>hasChild</th>\n",
       "      <th>hasHouse</th>\n",
       "      <th>houseLoan</th>\n",
       "      <th>carLoan</th>\n",
       "      <th>hasCar</th>\n",
       "      <th>workYears</th>\n",
       "      <th>officeScale</th>\n",
       "      <th>months</th>\n",
       "      <th>borrowType</th>\n",
       "      <th>credit</th>\n",
       "    </tr>\n",
       "  </thead>\n",
       "  <tbody>\n",
       "    <tr>\n",
       "      <th>0</th>\n",
       "      <td>1</td>\n",
       "      <td>28</td>\n",
       "      <td>35000</td>\n",
       "      <td>0</td>\n",
       "      <td>8</td>\n",
       "      <td>8</td>\n",
       "      <td>0</td>\n",
       "      <td>0</td>\n",
       "      <td>0</td>\n",
       "      <td>0</td>\n",
       "      <td>0</td>\n",
       "      <td>0</td>\n",
       "      <td>2</td>\n",
       "      <td>55</td>\n",
       "      <td>18</td>\n",
       "      <td>7</td>\n",
       "      <td>1</td>\n",
       "    </tr>\n",
       "    <tr>\n",
       "      <th>1</th>\n",
       "      <td>1</td>\n",
       "      <td>28</td>\n",
       "      <td>7500</td>\n",
       "      <td>0</td>\n",
       "      <td>8</td>\n",
       "      <td>10</td>\n",
       "      <td>0</td>\n",
       "      <td>0</td>\n",
       "      <td>0</td>\n",
       "      <td>0</td>\n",
       "      <td>0</td>\n",
       "      <td>0</td>\n",
       "      <td>4</td>\n",
       "      <td>500</td>\n",
       "      <td>6</td>\n",
       "      <td>7</td>\n",
       "      <td>1</td>\n",
       "    </tr>\n",
       "    <tr>\n",
       "      <th>2</th>\n",
       "      <td>1</td>\n",
       "      <td>27</td>\n",
       "      <td>3500</td>\n",
       "      <td>0</td>\n",
       "      <td>6</td>\n",
       "      <td>5</td>\n",
       "      <td>1</td>\n",
       "      <td>1</td>\n",
       "      <td>1</td>\n",
       "      <td>0</td>\n",
       "      <td>1</td>\n",
       "      <td>1</td>\n",
       "      <td>4</td>\n",
       "      <td>55</td>\n",
       "      <td>9</td>\n",
       "      <td>7</td>\n",
       "      <td>1</td>\n",
       "    </tr>\n",
       "    <tr>\n",
       "      <th>3</th>\n",
       "      <td>1</td>\n",
       "      <td>32</td>\n",
       "      <td>35000</td>\n",
       "      <td>0</td>\n",
       "      <td>3</td>\n",
       "      <td>18</td>\n",
       "      <td>1</td>\n",
       "      <td>1</td>\n",
       "      <td>0</td>\n",
       "      <td>0</td>\n",
       "      <td>0</td>\n",
       "      <td>0</td>\n",
       "      <td>2</td>\n",
       "      <td>55</td>\n",
       "      <td>6</td>\n",
       "      <td>7</td>\n",
       "      <td>1</td>\n",
       "    </tr>\n",
       "    <tr>\n",
       "      <th>4</th>\n",
       "      <td>1</td>\n",
       "      <td>33</td>\n",
       "      <td>35000</td>\n",
       "      <td>0</td>\n",
       "      <td>3</td>\n",
       "      <td>18</td>\n",
       "      <td>1</td>\n",
       "      <td>1</td>\n",
       "      <td>1</td>\n",
       "      <td>1</td>\n",
       "      <td>0</td>\n",
       "      <td>0</td>\n",
       "      <td>1</td>\n",
       "      <td>10</td>\n",
       "      <td>12</td>\n",
       "      <td>7</td>\n",
       "      <td>0</td>\n",
       "    </tr>\n",
       "  </tbody>\n",
       "</table>\n",
       "</div>"
      ],
      "text/plain": [
       "   status  age  salary  gender  education  graduated.years  marriageStatus  \\\n",
       "0       1   28   35000       0          8                8               0   \n",
       "1       1   28    7500       0          8               10               0   \n",
       "2       1   27    3500       0          6                5               1   \n",
       "3       1   32   35000       0          3               18               1   \n",
       "4       1   33   35000       0          3               18               1   \n",
       "\n",
       "   hasChild  hasHouse  houseLoan  carLoan  hasCar  workYears  officeScale  \\\n",
       "0         0         0          0        0       0          2           55   \n",
       "1         0         0          0        0       0          4          500   \n",
       "2         1         1          0        1       1          4           55   \n",
       "3         1         0          0        0       0          2           55   \n",
       "4         1         1          1        0       0          1           10   \n",
       "\n",
       "   months  borrowType  credit  \n",
       "0      18           7       1  \n",
       "1       6           7       1  \n",
       "2       9           7       1  \n",
       "3       6           7       1  \n",
       "4      12           7       0  "
      ]
     },
     "execution_count": 2,
     "metadata": {},
     "output_type": "execute_result"
    }
   ],
   "source": [
    "data = pd.read_csv('/Users/Jovial/Desktop/机器学习分享/data/rrd_data.csv')\n",
    "data.iloc[:5,:]"
   ]
  },
  {
   "cell_type": "code",
   "execution_count": 7,
   "metadata": {},
   "outputs": [
    {
     "data": {
      "text/plain": [
       "(742, 17)"
      ]
     },
     "execution_count": 7,
     "metadata": {},
     "output_type": "execute_result"
    }
   ],
   "source": [
    "data.shape"
   ]
  },
  {
   "cell_type": "code",
   "execution_count": 38,
   "metadata": {},
   "outputs": [
    {
     "name": "stdout",
     "output_type": "stream",
     "text": [
      "(742, 16) (742,)\n"
     ]
    }
   ],
   "source": [
    "X_data = data.ix[:,1:]\n",
    "Y_data = data.ix[:,0]\n",
    "print(X_data.shape,Y_data.shape)"
   ]
  },
  {
   "cell_type": "markdown",
   "metadata": {},
   "source": [
    "## 划分训练集和测试集"
   ]
  },
  {
   "cell_type": "code",
   "execution_count": 25,
   "metadata": {},
   "outputs": [
    {
     "name": "stdout",
     "output_type": "stream",
     "text": [
      "(593, 16) (149, 16) (593,) (149,)\n"
     ]
    }
   ],
   "source": [
    "X_train,X_test,Y_train,Y_test = train_test_split(X_data,Y_data,test_size=0.2,random_state=0)\n",
    "print(X_train.shape,X_test.shape,Y_train.shape,Y_test.shape)"
   ]
  },
  {
   "cell_type": "markdown",
   "metadata": {},
   "source": [
    "## 标准化处理 "
   ]
  },
  {
   "cell_type": "code",
   "execution_count": 29,
   "metadata": {},
   "outputs": [
    {
     "data": {
      "text/plain": [
       "array([[-1.14913159,  2.12894108,  2.6081855 , ..., -0.00613265,\n",
       "         0.41941018, -0.38917388],\n",
       "       [-0.99025189, -0.57311047, -0.38340831, ..., -0.73346467,\n",
       "        -2.78286751, -0.38917388],\n",
       "       [ 0.12190601,  1.17527583,  2.6081855 , ..., -0.00613265,\n",
       "         0.41941018, -0.38917388],\n",
       "       ..., \n",
       "       [-0.83137219, -0.8274212 ,  2.6081855 , ...,  2.90319543,\n",
       "        -2.24915457, -0.38917388],\n",
       "       [-0.35473309, -0.8274212 , -0.38340831, ..., -0.73346467,\n",
       "        -2.24915457, -0.38917388],\n",
       "       [ 1.07518421,  1.17527583, -0.38340831, ..., -0.73346467,\n",
       "         0.41941018, -0.38917388]])"
      ]
     },
     "execution_count": 29,
     "metadata": {},
     "output_type": "execute_result"
    }
   ],
   "source": [
    "scaler = StandardScaler()\n",
    "X_train_std = scaler.fit_transform(X_train)\n",
    "X_test_std = scaler.transform(X_test)\n",
    "X_train_std"
   ]
  },
  {
   "cell_type": "markdown",
   "metadata": {},
   "source": [
    "## 训练逻辑回归模型 "
   ]
  },
  {
   "cell_type": "code",
   "execution_count": 39,
   "metadata": {},
   "outputs": [
    {
     "name": "stdout",
     "output_type": "stream",
     "text": [
      "[[-0.03800108 -0.05589281 -0.25568543 -0.41524309 -0.05242314 -0.27681768\n",
      "   0.30732284  0.051064   -0.3567775   0.21934692 -0.12005562 -0.01605826\n",
      "  -0.26420597  0.58770857 -0.1225445  -0.40844449]]\n",
      "[-2.10782841]\n"
     ]
    }
   ],
   "source": [
    "lr = LogisticRegression(penalty='l2',tol=0.0001,C=1,solver='liblinear',random_state=0)\n",
    "lr.fit(X_train_std,Y_train)\n",
    "print(lr.coef_)\n",
    "print(lr.intercept_)"
   ]
  },
  {
   "cell_type": "code",
   "execution_count": 43,
   "metadata": {},
   "outputs": [
    {
     "name": "stdout",
     "output_type": "stream",
     "text": [
      "[[ 0.72692534  0.27307466]\n",
      " [ 0.97783374  0.02216626]\n",
      " [ 0.18953303  0.81046697]\n",
      " [ 0.55655315  0.44344685]\n",
      " [ 0.87660071  0.12339929]\n",
      " [ 0.84304024  0.15695976]\n",
      " [ 0.93685386  0.06314614]\n",
      " [ 0.95105107  0.04894893]\n",
      " [ 0.82269751  0.17730249]\n",
      " [ 0.40525258  0.59474742]]\n",
      "[0 0 1 0 0 0 0 0 0 1]\n"
     ]
    }
   ],
   "source": [
    "print(lr.predict_proba(X_test_std)[:10])\n",
    "print(lr.predict(X_test_std)[:10])"
   ]
  },
  {
   "cell_type": "markdown",
   "metadata": {},
   "source": [
    "## 训练k近邻模型"
   ]
  },
  {
   "cell_type": "code",
   "execution_count": 53,
   "metadata": {},
   "outputs": [
    {
     "data": {
      "text/plain": [
       "KNeighborsClassifier(algorithm='auto', leaf_size=30, metric='minkowski',\n",
       "           metric_params=None, n_jobs=1, n_neighbors=3, p=2,\n",
       "           weights='uniform')"
      ]
     },
     "execution_count": 53,
     "metadata": {},
     "output_type": "execute_result"
    }
   ],
   "source": [
    "knn = KNeighborsClassifier(n_neighbors=3,weights='uniform',algorithm='auto',p=2)\n",
    "knn.fit(X_train_std,Y_train)"
   ]
  },
  {
   "cell_type": "code",
   "execution_count": 54,
   "metadata": {},
   "outputs": [
    {
     "name": "stdout",
     "output_type": "stream",
     "text": [
      "[[ 0.33333333  0.66666667]\n",
      " [ 1.          0.        ]\n",
      " [ 0.          1.        ]\n",
      " [ 0.66666667  0.33333333]\n",
      " [ 1.          0.        ]\n",
      " [ 1.          0.        ]\n",
      " [ 1.          0.        ]\n",
      " [ 1.          0.        ]\n",
      " [ 1.          0.        ]\n",
      " [ 0.66666667  0.33333333]]\n",
      "[1 0 1 0 0 0 0 0 0 0]\n"
     ]
    }
   ],
   "source": [
    "print(knn.predict_proba(X_test_std)[:10])\n",
    "print(knn.predict(X_test_std)[:10])"
   ]
  },
  {
   "cell_type": "markdown",
   "metadata": {},
   "source": [
    "## 训练朴素贝叶斯模型 "
   ]
  },
  {
   "cell_type": "code",
   "execution_count": 58,
   "metadata": {},
   "outputs": [
    {
     "data": {
      "text/plain": [
       "GaussianNB(priors=None)"
      ]
     },
     "execution_count": 58,
     "metadata": {},
     "output_type": "execute_result"
    }
   ],
   "source": [
    "nb = GaussianNB(priors=None)\n",
    "nb.fit(X_train_std,Y_train)"
   ]
  },
  {
   "cell_type": "code",
   "execution_count": 59,
   "metadata": {},
   "outputs": [
    {
     "name": "stdout",
     "output_type": "stream",
     "text": [
      "[[  4.62764718e-01   5.37235282e-01]\n",
      " [  9.99946945e-01   5.30547581e-05]\n",
      " [  6.36988625e-05   9.99936301e-01]\n",
      " [  1.06590877e-01   8.93409123e-01]\n",
      " [  8.81338052e-01   1.18661948e-01]\n",
      " [  8.50235522e-01   1.49764478e-01]\n",
      " [  9.97628413e-01   2.37158699e-03]\n",
      " [  9.06535547e-01   9.34644531e-02]\n",
      " [  8.04542584e-01   1.95457416e-01]\n",
      " [  8.80634599e-02   9.11936540e-01]]\n",
      "[1 0 1 1 0 0 0 0 0 1]\n"
     ]
    }
   ],
   "source": [
    "print(nb.predict_proba(X_test_std)[:10])\n",
    "print(nb.predict(X_test_std)[:10])"
   ]
  },
  {
   "cell_type": "code",
   "execution_count": null,
   "metadata": {
    "collapsed": true
   },
   "outputs": [],
   "source": []
  }
 ],
 "metadata": {
  "kernelspec": {
   "display_name": "Python 3",
   "language": "python",
   "name": "python3"
  },
  "language_info": {
   "codemirror_mode": {
    "name": "ipython",
    "version": 3
   },
   "file_extension": ".py",
   "mimetype": "text/x-python",
   "name": "python",
   "nbconvert_exporter": "python",
   "pygments_lexer": "ipython3",
   "version": "3.6.1"
  }
 },
 "nbformat": 4,
 "nbformat_minor": 2
}
